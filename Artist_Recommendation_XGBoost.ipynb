{
  "nbformat": 4,
  "nbformat_minor": 0,
  "metadata": {
    "colab": {
      "provenance": []
    },
    "kernelspec": {
      "name": "python3",
      "display_name": "Python 3"
    },
    "language_info": {
      "name": "python"
    }
  },
  "cells": [
    {
      "cell_type": "markdown",
      "source": [
        "###Importing necessary libaries"
      ],
      "metadata": {
        "id": "JywY-uFt6PXz"
      }
    },
    {
      "cell_type": "code",
      "source": [
        "import pandas as pd\n",
        "import ast\n",
        "from sklearn.preprocessing import MultiLabelBinarizer\n",
        "import numpy as np\n",
        "from gensim.models import Word2Vec\n",
        "import seaborn as sns\n",
        "from sentence_transformers import SentenceTransformer\n",
        "from sklearn.metrics.pairwise import cosine_similarity\n",
        "from sklearn.cluster import AgglomerativeClustering\n",
        "from scipy.cluster.hierarchy import dendrogram, linkage\n",
        "import matplotlib.pyplot as plt\n",
        "import pandas as pd\n",
        "import nltk\n",
        "from nltk.corpus import stopwords\n",
        "from nltk.tokenize import word_tokenize\n",
        "from nltk.corpus import words\n",
        "import string\n",
        "from sklearn.preprocessing import LabelEncoder\n",
        "from xgboost import XGBClassifier\n",
        "from sklearn.metrics import accuracy_score, f1_score, classification_report\n",
        "from sklearn.model_selection import train_test_split"
      ],
      "metadata": {
        "id": "QdTAHkLjZrQb"
      },
      "execution_count": 29,
      "outputs": []
    },
    {
      "cell_type": "code",
      "source": [
        "pip install gensim nltk"
      ],
      "metadata": {
        "colab": {
          "base_uri": "https://localhost:8080/"
        },
        "id": "nnYIuu09ZiDx",
        "outputId": "b11dd6c8-f15f-4baf-b972-a7a2cccd8e17"
      },
      "execution_count": 6,
      "outputs": [
        {
          "output_type": "stream",
          "name": "stdout",
          "text": [
            "Requirement already satisfied: gensim in /usr/local/lib/python3.10/dist-packages (4.3.3)\n",
            "Requirement already satisfied: nltk in /usr/local/lib/python3.10/dist-packages (3.9.1)\n",
            "Requirement already satisfied: numpy<2.0,>=1.18.5 in /usr/local/lib/python3.10/dist-packages (from gensim) (1.26.4)\n",
            "Requirement already satisfied: scipy<1.14.0,>=1.7.0 in /usr/local/lib/python3.10/dist-packages (from gensim) (1.13.1)\n",
            "Requirement already satisfied: smart-open>=1.8.1 in /usr/local/lib/python3.10/dist-packages (from gensim) (7.1.0)\n",
            "Requirement already satisfied: click in /usr/local/lib/python3.10/dist-packages (from nltk) (8.1.7)\n",
            "Requirement already satisfied: joblib in /usr/local/lib/python3.10/dist-packages (from nltk) (1.4.2)\n",
            "Requirement already satisfied: regex>=2021.8.3 in /usr/local/lib/python3.10/dist-packages (from nltk) (2024.11.6)\n",
            "Requirement already satisfied: tqdm in /usr/local/lib/python3.10/dist-packages (from nltk) (4.67.1)\n",
            "Requirement already satisfied: wrapt in /usr/local/lib/python3.10/dist-packages (from smart-open>=1.8.1->gensim) (1.17.0)\n"
          ]
        }
      ]
    },
    {
      "cell_type": "code",
      "source": [
        "!pip install sentence_transformers"
      ],
      "metadata": {
        "id": "3FpbHWs17HW8"
      },
      "execution_count": null,
      "outputs": []
    },
    {
      "cell_type": "markdown",
      "source": [
        "### Using sentence transformer (SBERT) for embeddings tags"
      ],
      "metadata": {
        "id": "dR-7kf7m9MUN"
      }
    },
    {
      "cell_type": "code",
      "source": [
        "model = SentenceTransformer('all-MiniLM-L6-v2')"
      ],
      "metadata": {
        "colab": {
          "base_uri": "https://localhost:8080/"
        },
        "id": "oVOu3HSF7N07",
        "outputId": "eff45bd5-dd29-4d0c-ee8c-29820e6d7ea2"
      },
      "execution_count": 17,
      "outputs": [
        {
          "output_type": "stream",
          "name": "stderr",
          "text": [
            "/usr/local/lib/python3.10/dist-packages/huggingface_hub/utils/_auth.py:94: UserWarning: \n",
            "The secret `HF_TOKEN` does not exist in your Colab secrets.\n",
            "To authenticate with the Hugging Face Hub, create a token in your settings tab (https://huggingface.co/settings/tokens), set it as secret in your Google Colab and restart your session.\n",
            "You will be able to reuse this secret in all of your notebooks.\n",
            "Please note that authentication is recommended but still optional to access public models or datasets.\n",
            "  warnings.warn(\n"
          ]
        }
      ]
    },
    {
      "cell_type": "code",
      "source": [
        "nltk.download('punkt')\n",
        "nltk.download('stopwords')\n",
        "nltk.download('punkt_tab')\n",
        "nltk.download('words')"
      ],
      "metadata": {
        "colab": {
          "base_uri": "https://localhost:8080/"
        },
        "id": "PSyqAmeuZi_i",
        "outputId": "7245692e-0152-4329-abc9-892cc1c48f7a"
      },
      "execution_count": 7,
      "outputs": [
        {
          "output_type": "stream",
          "name": "stderr",
          "text": [
            "[nltk_data] Downloading package punkt to /root/nltk_data...\n",
            "[nltk_data]   Unzipping tokenizers/punkt.zip.\n",
            "[nltk_data] Downloading package stopwords to /root/nltk_data...\n",
            "[nltk_data]   Unzipping corpora/stopwords.zip.\n",
            "[nltk_data] Downloading package punkt_tab to /root/nltk_data...\n",
            "[nltk_data]   Unzipping tokenizers/punkt_tab.zip.\n",
            "[nltk_data] Downloading package words to /root/nltk_data...\n",
            "[nltk_data]   Unzipping corpora/words.zip.\n"
          ]
        },
        {
          "output_type": "execute_result",
          "data": {
            "text/plain": [
              "True"
            ]
          },
          "metadata": {},
          "execution_count": 7
        }
      ]
    },
    {
      "cell_type": "code",
      "source": [
        "stop_words = set(stopwords.words('english'))\n",
        "valid_words = set(words.words())"
      ],
      "metadata": {
        "id": "UcZbP2j5ZjfM"
      },
      "execution_count": 8,
      "outputs": []
    },
    {
      "cell_type": "markdown",
      "source": [
        "### Importing data about artist from last fm dataset"
      ],
      "metadata": {
        "id": "va2RyJwK69fZ"
      }
    },
    {
      "cell_type": "code",
      "source": [
        "artist = pd.read_csv('/content/artist_info_final.csv')"
      ],
      "metadata": {
        "id": "-M55kKb364Up"
      },
      "execution_count": 2,
      "outputs": []
    },
    {
      "cell_type": "code",
      "source": [
        "artist.drop(columns=['Unnamed: 0', 'Unnamed: 9'], inplace=True)\n",
        "artist.info()"
      ],
      "metadata": {
        "colab": {
          "base_uri": "https://localhost:8080/"
        },
        "id": "rRYyPqOM66NI",
        "outputId": "73e7451e-65f2-4383-af34-37f9d25dd8a5"
      },
      "execution_count": 3,
      "outputs": [
        {
          "output_type": "stream",
          "name": "stdout",
          "text": [
            "<class 'pandas.core.frame.DataFrame'>\n",
            "RangeIndex: 11777 entries, 0 to 11776\n",
            "Data columns (total 9 columns):\n",
            " #   Column          Non-Null Count  Dtype \n",
            "---  ------          --------------  ----- \n",
            " 0   Name            11777 non-null  object\n",
            " 1   MBID            11777 non-null  object\n",
            " 2   similar_artist  11777 non-null  object\n",
            " 3   listeners       11777 non-null  int64 \n",
            " 4   play_counts     11777 non-null  int64 \n",
            " 5   tags            11777 non-null  object\n",
            " 6   summary         11777 non-null  object\n",
            " 7   top_album       11777 non-null  object\n",
            " 8   top_songs       11777 non-null  object\n",
            "dtypes: int64(2), object(7)\n",
            "memory usage: 828.2+ KB\n"
          ]
        }
      ]
    },
    {
      "cell_type": "code",
      "source": [
        "def preprocess_text(text):\n",
        "  if pd.isna(text):\n",
        "    return []\n",
        "  tokens = word_tokenize(text.lower())\n",
        "  tokens = [word for word in tokens if word not in string.punctuation and word not in stop_words]\n",
        "  return tokens"
      ],
      "metadata": {
        "id": "2AsgZgpVaUwk"
      },
      "execution_count": 6,
      "outputs": []
    },
    {
      "cell_type": "markdown",
      "source": [
        "### Preprocessing columns like summary and albums to be converted into vectors"
      ],
      "metadata": {
        "id": "xKz1Ed9K9nZW"
      }
    },
    {
      "cell_type": "code",
      "source": [
        "artist['summary_tokens'] = artist['summary'].apply(preprocess_text)\n",
        "artist['top_album_tokens'] = artist['summary'].apply(preprocess_text)\n",
        "artist['top_songs_tokens'] = artist['summary'].apply(preprocess_text)"
      ],
      "metadata": {
        "id": "wYoAhVMcaqi_"
      },
      "execution_count": 9,
      "outputs": []
    },
    {
      "cell_type": "code",
      "source": [
        "corpus = (\n",
        "    artist['summary_tokens'].tolist() +\n",
        "    artist['top_album_tokens'].tolist() +\n",
        "    artist['top_songs_tokens'].tolist()\n",
        ")"
      ],
      "metadata": {
        "id": "LzwhoTMAaqff"
      },
      "execution_count": 10,
      "outputs": []
    },
    {
      "cell_type": "code",
      "source": [
        "# using word2vec model for converting albums, songs and summary into vectors\n",
        "word2Vec_model = Word2Vec(\n",
        "    sentences = corpus,\n",
        "    vector_size = 100,\n",
        "    window = 5,\n",
        "    workers = 1,\n",
        "    sg = 1\n",
        ")"
      ],
      "metadata": {
        "id": "rHp4HYJ4aqZq"
      },
      "execution_count": 11,
      "outputs": []
    },
    {
      "cell_type": "code",
      "source": [
        "def get_feature_vector(token, models):\n",
        "  vectors = [models.wv[word] for word in token if word in models.wv]\n",
        "  if len(vectors) == 0:\n",
        "      return np.zeros(models.vector_size)\n",
        "  return np.mean(vectors, axis = 0)"
      ],
      "metadata": {
        "id": "EwZoOFogcEqG"
      },
      "execution_count": 12,
      "outputs": []
    },
    {
      "cell_type": "code",
      "source": [
        "artist['summary_vector'] = artist['summary_tokens'].apply(lambda x: get_feature_vector(x, word2Vec_model))\n",
        "artist['top_album_vector'] = artist['top_album_tokens'].apply(lambda x: get_feature_vector(x, word2Vec_model))\n",
        "artist['top_song_vector'] = artist['top_songs_tokens'].apply(lambda x: get_feature_vector(x, word2Vec_model))"
      ],
      "metadata": {
        "id": "U2G4c6vYcw18"
      },
      "execution_count": 13,
      "outputs": []
    },
    {
      "cell_type": "markdown",
      "source": [
        "###Scaling listners count and play count logarithmically"
      ],
      "metadata": {
        "id": "9ltVjWhR9wmP"
      }
    },
    {
      "cell_type": "code",
      "source": [
        "artist['listeners'] = np.log1p(artist['listeners'])\n",
        "artist['play_counts'] = np.log1p(artist['play_counts'])"
      ],
      "metadata": {
        "id": "KYHWPsl1d0YL"
      },
      "execution_count": 14,
      "outputs": []
    },
    {
      "cell_type": "code",
      "source": [
        "def process_tags(tags):\n",
        "    if isinstance(tags, list):\n",
        "        return list(\n",
        "            set(\n",
        "                tag.lower()\n",
        "                for tag in tags[:5]\n",
        "                if len(tag.split()) <= 4\n",
        "                and tag.lower() not in stop_words\n",
        "            )\n",
        "        )\n",
        "    return tags\n",
        "\n",
        "artist['tags'] = artist['tags'].apply(lambda x: ast.literal_eval(x) if isinstance(x, str) else x)\n",
        "artist['tags'] = artist['tags'].apply(process_tags)\n",
        "unique_tags = set(tag for tag_list in artist['tags'] for tag in tag_list)\n",
        "unique_tags = list(unique_tags)"
      ],
      "metadata": {
        "id": "nC4LtmsvAKkC"
      },
      "execution_count": 15,
      "outputs": []
    },
    {
      "cell_type": "code",
      "source": [
        "# using cosine similarity and doing heirarchical clustering to cluster all tags into 9 classes\n",
        "tag_embeddings = model.encode(unique_tags)\n",
        "cos_sim = cosine_similarity(tag_embeddings)\n",
        "linkage_matrix = linkage(tag_embeddings, method='ward')\n",
        "plt.figure(figsize=(10, 7))\n",
        "dendrogram(linkage_matrix, labels=unique_tags, leaf_rotation=90)\n",
        "plt.title(\"Hierarchical Clustering Dendrogram\")\n",
        "plt.xlabel(\"Tags\")\n",
        "plt.ylabel(\"Distance\")\n",
        "plt.show()\n"
      ],
      "metadata": {
        "id": "CrvTpu5fm4Gw",
        "colab": {
          "base_uri": "https://localhost:8080/",
          "height": 766
        },
        "outputId": "15277cd2-3c9d-4ec8-c7bc-8df272a444f4"
      },
      "execution_count": 18,
      "outputs": [
        {
          "output_type": "display_data",
          "data": {
            "text/plain": [
              "<Figure size 1000x700 with 1 Axes>"
            ],
            "image/png": "[encoded data removed]"
          },
          "metadata": {}
        }
      ]
    },
    {
      "cell_type": "code",
      "source": [
        "clusterer = AgglomerativeClustering(n_clusters=9, metric='euclidean', linkage='ward')\n",
        "clusters = clusterer.fit_predict(tag_embeddings)\n",
        "tag_clusters = {tag: cluster for tag, cluster in zip(unique_tags, clusters)}\n"
      ],
      "metadata": {
        "id": "XwCnjZuwqNoV"
      },
      "execution_count": 19,
      "outputs": []
    },
    {
      "cell_type": "code",
      "source": [
        "# defining cluster name\n",
        "result = {}\n",
        "for key, value in tag_clusters.items():\n",
        "    if value not in result:\n",
        "      result[value] = []\n",
        "    result[value].append(key)\n",
        "\n",
        "result_inverse = {}\n",
        "result_inverse['romantic'] = result[0]\n",
        "result_inverse['pop'] = result[1]\n",
        "result_inverse['instrumental'] = result[2]\n",
        "result_inverse['rock'] = result[3]\n",
        "result_inverse['artist'] = result[4]\n",
        "result_inverse['jazz']= result[5]\n",
        "result_inverse['country music'] = result[6]\n",
        "result_inverse['metal'] = result[7]\n",
        "result_inverse['hardcore'] = result[8]\n",
        "tag_to_cluster = {tag : cluster for cluster, tags in result_inverse.items() for tag in tags}"
      ],
      "metadata": {
        "id": "ey8U2IlwuZK5"
      },
      "execution_count": 20,
      "outputs": []
    },
    {
      "cell_type": "code",
      "source": [
        "# assigning cluster according to prefernce order which is decided by no of tags in each cluster\n",
        "def map_tag_to_cluster(tag_list):\n",
        "  preference_order = ['hardcore', 'jazz', 'instrumental', 'country music', 'metal', 'rock', 'jazz', 'pop', 'romantic']\n",
        "  mapped_clusters = [tag_to_cluster[tag] for tag in tag_list if tag in tag_to_cluster]\n",
        "  mapped_clusters = list(set(mapped_clusters))\n",
        "  for cluster in mapped_clusters:\n",
        "    if cluster in preference_order:\n",
        "      return str(cluster)\n"
      ],
      "metadata": {
        "id": "Akw-VQHfLCzw"
      },
      "execution_count": 21,
      "outputs": []
    },
    {
      "cell_type": "code",
      "source": [
        "artist['mapped_cluster'] = artist['tags'].apply(map_tag_to_cluster)\n",
        "sns.barplot(artist['mapped_cluster'])"
      ],
      "metadata": {
        "id": "eghNzYV0LJPV",
        "colab": {
          "base_uri": "https://localhost:8080/",
          "height": 447
        },
        "outputId": "f9c62b93-fb18-4989-8a3b-fce5f6b9a07e"
      },
      "execution_count": 22,
      "outputs": [
        {
          "output_type": "execute_result",
          "data": {
            "text/plain": [
              "<Axes: ylabel='mapped_cluster'>"
            ]
          },
          "metadata": {},
          "execution_count": 22
        },
        {
          "output_type": "display_data",
          "data": {
            "text/plain": [
              "<Figure size 640x480 with 1 Axes>"
            ],
            "image/png": "[encoded data removed]"
          },
          "metadata": {}
        }
      ]
    },
    {
      "cell_type": "code",
      "source": [
        "# using Word2Vec to convert tags into vectors\n",
        "similar_artist_list = artist['similar_artist'].tolist()\n",
        "model = Word2Vec(sentences = similar_artist_list, vector_size = 100,\n",
        "                 window = 5, min_count=1, sg = 1, workers=4)\n",
        "artist['similar_artist_embedding'] = artist['similar_artist'].apply(lambda x: get_feature_vector(x, model))"
      ],
      "metadata": {
        "id": "rEge7fsMia5u",
        "colab": {
          "base_uri": "https://localhost:8080/"
        },
        "outputId": "ba8d303b-e426-4ecb-e4ab-fe4a150c0959"
      },
      "execution_count": 23,
      "outputs": [
        {
          "output_type": "stream",
          "name": "stderr",
          "text": [
            "WARNING:gensim.models.word2vec:Each 'sentences' item should be a list of words (usually unicode strings). First item here is instead plain <class 'str'>.\n"
          ]
        }
      ]
    },
    {
      "cell_type": "code",
      "source": [
        "# encoding the tags into labels\n",
        "label_encoder = LabelEncoder()\n",
        "artist['mapped_cluster_encoded'] = label_encoder.fit_transform(artist['mapped_cluster'])"
      ],
      "metadata": {
        "id": "5Nb4XAg_lrGf"
      },
      "execution_count": 24,
      "outputs": []
    },
    {
      "cell_type": "code",
      "source": [
        "test = artist.copy()\n",
        "test.drop(columns=['MBID', 'similar_artist', 'tags', 'summary', 'top_album', 'summary_tokens', 'top_album_tokens', 'top_songs_tokens', 'mapped_cluster', 'top_songs'], inplace=True)\n",
        "test.head(5)"
      ],
      "metadata": {
        "id": "N2OF-YiQjiyU",
        "colab": {
          "base_uri": "https://localhost:8080/",
          "height": 293
        },
        "outputId": "36933454-9801-4098-a871-4082ba6d7c12"
      },
      "execution_count": 25,
      "outputs": [
        {
          "output_type": "execute_result",
          "data": {
            "text/plain": [
              "          Name  listeners  play_counts  \\\n",
              "0      Nirvana  15.655611    19.852566   \n",
              "1  The Killers  15.598957    19.491057   \n",
              "2    Radiohead  15.734637    20.649002   \n",
              "3     Gorillaz  15.541471    19.710063   \n",
              "4     Coldplay  15.858085    20.200388   \n",
              "\n",
              "                                      summary_vector  \\\n",
              "0  [0.27162397, 0.31319883, 0.094084375, -0.24244...   \n",
              "1  [0.18478118, 0.22997175, 0.02550292, -0.224587...   \n",
              "2  [0.12581062, 0.15351963, 0.17364843, -0.193422...   \n",
              "3  [0.051277418, 0.07203111, 0.17411812, -0.12370...   \n",
              "4  [0.14708847, 0.23803574, 0.04089165, -0.314723...   \n",
              "\n",
              "                                    top_album_vector  \\\n",
              "0  [0.27162397, 0.31319883, 0.094084375, -0.24244...   \n",
              "1  [0.18478118, 0.22997175, 0.02550292, -0.224587...   \n",
              "2  [0.12581062, 0.15351963, 0.17364843, -0.193422...   \n",
              "3  [0.051277418, 0.07203111, 0.17411812, -0.12370...   \n",
              "4  [0.14708847, 0.23803574, 0.04089165, -0.314723...   \n",
              "\n",
              "                                     top_song_vector  \\\n",
              "0  [0.27162397, 0.31319883, 0.094084375, -0.24244...   \n",
              "1  [0.18478118, 0.22997175, 0.02550292, -0.224587...   \n",
              "2  [0.12581062, 0.15351963, 0.17364843, -0.193422...   \n",
              "3  [0.051277418, 0.07203111, 0.17411812, -0.12370...   \n",
              "4  [0.14708847, 0.23803574, 0.04089165, -0.314723...   \n",
              "\n",
              "                            similar_artist_embedding  mapped_cluster_encoded  \n",
              "0  [-0.16205104, 0.03735824, -0.026329935, 0.0433...                       7  \n",
              "1  [-0.14511701, 0.03295271, -0.022498468, 0.0391...                       7  \n",
              "2  [-0.15204774, 0.041980684, -0.005074551, 0.036...                       7  \n",
              "3  [-0.15653926, 0.041706096, -0.013944552, 0.051...                       2  \n",
              "4  [-0.15504941, 0.047037825, -0.028701864, 0.045...                       7  "
            ],
            "text/html": [
              "\n",
              "  <div id=\"df-5c8f3442-210d-4e4e-ba69-beebc858ebfe\" class=\"colab-df-container\">\n",
              "    <div>\n",
              "<style scoped>\n",
              "    .dataframe tbody tr th:only-of-type {\n",
              "        vertical-align: middle;\n",
              "    }\n",
              "\n",
              "    .dataframe tbody tr th {\n",
              "        vertical-align: top;\n",
              "    }\n",
              "\n",
              "    .dataframe thead th {\n",
              "        text-align: right;\n",
              "    }\n",
              "</style>\n",
              "<table border=\"1\" class=\"dataframe\">\n",
              "  <thead>\n",
              "    <tr style=\"text-align: right;\">\n",
              "      <th></th>\n",
              "      <th>Name</th>\n",
              "      <th>listeners</th>\n",
              "      <th>play_counts</th>\n",
              "      <th>summary_vector</th>\n",
              "      <th>top_album_vector</th>\n",
              "      <th>top_song_vector</th>\n",
              "      <th>similar_artist_embedding</th>\n",
              "      <th>mapped_cluster_encoded</th>\n",
              "    </tr>\n",
              "  </thead>\n",
              "  <tbody>\n",
              "    <tr>\n",
              "      <th>0</th>\n",
              "      <td>Nirvana</td>\n",
              "      <td>15.655611</td>\n",
              "      <td>19.852566</td>\n",
              "      <td>[0.27162397, 0.31319883, 0.094084375, -0.24244...</td>\n",
              "      <td>[0.27162397, 0.31319883, 0.094084375, -0.24244...</td>\n",
              "      <td>[0.27162397, 0.31319883, 0.094084375, -0.24244...</td>\n",
              "      <td>[-0.16205104, 0.03735824, -0.026329935, 0.0433...</td>\n",
              "      <td>7</td>\n",
              "    </tr>\n",
              "    <tr>\n",
              "      <th>1</th>\n",
              "      <td>The Killers</td>\n",
              "      <td>15.598957</td>\n",
              "      <td>19.491057</td>\n",
              "      <td>[0.18478118, 0.22997175, 0.02550292, -0.224587...</td>\n",
              "      <td>[0.18478118, 0.22997175, 0.02550292, -0.224587...</td>\n",
              "      <td>[0.18478118, 0.22997175, 0.02550292, -0.224587...</td>\n",
              "      <td>[-0.14511701, 0.03295271, -0.022498468, 0.0391...</td>\n",
              "      <td>7</td>\n",
              "    </tr>\n",
              "    <tr>\n",
              "      <th>2</th>\n",
              "      <td>Radiohead</td>\n",
              "      <td>15.734637</td>\n",
              "      <td>20.649002</td>\n",
              "      <td>[0.12581062, 0.15351963, 0.17364843, -0.193422...</td>\n",
              "      <td>[0.12581062, 0.15351963, 0.17364843, -0.193422...</td>\n",
              "      <td>[0.12581062, 0.15351963, 0.17364843, -0.193422...</td>\n",
              "      <td>[-0.15204774, 0.041980684, -0.005074551, 0.036...</td>\n",
              "      <td>7</td>\n",
              "    </tr>\n",
              "    <tr>\n",
              "      <th>3</th>\n",
              "      <td>Gorillaz</td>\n",
              "      <td>15.541471</td>\n",
              "      <td>19.710063</td>\n",
              "      <td>[0.051277418, 0.07203111, 0.17411812, -0.12370...</td>\n",
              "      <td>[0.051277418, 0.07203111, 0.17411812, -0.12370...</td>\n",
              "      <td>[0.051277418, 0.07203111, 0.17411812, -0.12370...</td>\n",
              "      <td>[-0.15653926, 0.041706096, -0.013944552, 0.051...</td>\n",
              "      <td>2</td>\n",
              "    </tr>\n",
              "    <tr>\n",
              "      <th>4</th>\n",
              "      <td>Coldplay</td>\n",
              "      <td>15.858085</td>\n",
              "      <td>20.200388</td>\n",
              "      <td>[0.14708847, 0.23803574, 0.04089165, -0.314723...</td>\n",
              "      <td>[0.14708847, 0.23803574, 0.04089165, -0.314723...</td>\n",
              "      <td>[0.14708847, 0.23803574, 0.04089165, -0.314723...</td>\n",
              "      <td>[-0.15504941, 0.047037825, -0.028701864, 0.045...</td>\n",
              "      <td>7</td>\n",
              "    </tr>\n",
              "  </tbody>\n",
              "</table>\n",
              "</div>\n",
              "    <div class=\"colab-df-buttons\">\n",
              "\n",
              "  <div class=\"colab-df-container\">\n",
              "    <button class=\"colab-df-convert\" onclick=\"convertToInteractive('df-5c8f3442-210d-4e4e-ba69-beebc858ebfe')\"\n",
              "            title=\"Convert this dataframe to an interactive table.\"\n",
              "            style=\"display:none;\">\n",
              "\n",
              "  <svg xmlns=\"http://www.w3.org/2000/svg\" height=\"24px\" viewBox=\"0 -960 960 960\">\n",
              "    <path d=\"M120-120v-720h720v720H120Zm60-500h600v-160H180v160Zm220 220h160v-160H400v160Zm0 220h160v-160H400v160ZM180-400h160v-160H180v160Zm440 0h160v-160H620v160ZM180-180h160v-160H180v160Zm440 0h160v-160H620v160Z\"/>\n",
              "  </svg>\n",
              "    </button>\n",
              "\n",
              "  <style>\n",
              "    .colab-df-container {\n",
              "      display:flex;\n",
              "      gap: 12px;\n",
              "    }\n",
              "\n",
              "    .colab-df-convert {\n",
              "      background-color: #E8F0FE;\n",
              "      border: none;\n",
              "      border-radius: 50%;\n",
              "      cursor: pointer;\n",
              "      display: none;\n",
              "      fill: #1967D2;\n",
              "      height: 32px;\n",
              "      padding: 0 0 0 0;\n",
              "      width: 32px;\n",
              "    }\n",
              "\n",
              "    .colab-df-convert:hover {\n",
              "      background-color: #E2EBFA;\n",
              "      box-shadow: 0px 1px 2px rgba(60, 64, 67, 0.3), 0px 1px 3px 1px rgba(60, 64, 67, 0.15);\n",
              "      fill: #174EA6;\n",
              "    }\n",
              "\n",
              "    .colab-df-buttons div {\n",
              "      margin-bottom: 4px;\n",
              "    }\n",
              "\n",
              "    [theme=dark] .colab-df-convert {\n",
              "      background-color: #3B4455;\n",
              "      fill: #D2E3FC;\n",
              "    }\n",
              "\n",
              "    [theme=dark] .colab-df-convert:hover {\n",
              "      background-color: #434B5C;\n",
              "      box-shadow: 0px 1px 3px 1px rgba(0, 0, 0, 0.15);\n",
              "      filter: drop-shadow(0px 1px 2px rgba(0, 0, 0, 0.3));\n",
              "      fill: #FFFFFF;\n",
              "    }\n",
              "  </style>\n",
              "\n",
              "    <script>\n",
              "      const buttonEl =\n",
              "        document.querySelector('#df-5c8f3442-210d-4e4e-ba69-beebc858ebfe button.colab-df-convert');\n",
              "      buttonEl.style.display =\n",
              "        google.colab.kernel.accessAllowed ? 'block' : 'none';\n",
              "\n",
              "      async function convertToInteractive(key) {\n",
              "        const element = document.querySelector('#df-5c8f3442-210d-4e4e-ba69-beebc858ebfe');\n",
              "        const dataTable =\n",
              "          await google.colab.kernel.invokeFunction('convertToInteractive',\n",
              "                                                    [key], {});\n",
              "        if (!dataTable) return;\n",
              "\n",
              "        const docLinkHtml = 'Like what you see? Visit the ' +\n",
              "          '<a target=\"_blank\" href=https://colab.research.google.com/notebooks/data_table.ipynb>data table notebook</a>'\n",
              "          + ' to learn more about interactive tables.';\n",
              "        element.innerHTML = '';\n",
              "        dataTable['output_type'] = 'display_data';\n",
              "        await google.colab.output.renderOutput(dataTable, element);\n",
              "        const docLink = document.createElement('div');\n",
              "        docLink.innerHTML = docLinkHtml;\n",
              "        element.appendChild(docLink);\n",
              "      }\n",
              "    </script>\n",
              "  </div>\n",
              "\n",
              "\n",
              "<div id=\"df-6fdff393-24f5-4814-93ec-2d3d01988470\">\n",
              "  <button class=\"colab-df-quickchart\" onclick=\"quickchart('df-6fdff393-24f5-4814-93ec-2d3d01988470')\"\n",
              "            title=\"Suggest charts\"\n",
              "            style=\"display:none;\">\n",
              "\n",
              "<svg xmlns=\"http://www.w3.org/2000/svg\" height=\"24px\"viewBox=\"0 0 24 24\"\n",
              "     width=\"24px\">\n",
              "    <g>\n",
              "        <path d=\"M19 3H5c-1.1 0-2 .9-2 2v14c0 1.1.9 2 2 2h14c1.1 0 2-.9 2-2V5c0-1.1-.9-2-2-2zM9 17H7v-7h2v7zm4 0h-2V7h2v10zm4 0h-2v-4h2v4z\"/>\n",
              "    </g>\n",
              "</svg>\n",
              "  </button>\n",
              "\n",
              "<style>\n",
              "  .colab-df-quickchart {\n",
              "      --bg-color: #E8F0FE;\n",
              "      --fill-color: #1967D2;\n",
              "      --hover-bg-color: #E2EBFA;\n",
              "      --hover-fill-color: #174EA6;\n",
              "      --disabled-fill-color: #AAA;\n",
              "      --disabled-bg-color: #DDD;\n",
              "  }\n",
              "\n",
              "  [theme=dark] .colab-df-quickchart {\n",
              "      --bg-color: #3B4455;\n",
              "      --fill-color: #D2E3FC;\n",
              "      --hover-bg-color: #434B5C;\n",
              "      --hover-fill-color: #FFFFFF;\n",
              "      --disabled-bg-color: #3B4455;\n",
              "      --disabled-fill-color: #666;\n",
              "  }\n",
              "\n",
              "  .colab-df-quickchart {\n",
              "    background-color: var(--bg-color);\n",
              "    border: none;\n",
              "    border-radius: 50%;\n",
              "    cursor: pointer;\n",
              "    display: none;\n",
              "    fill: var(--fill-color);\n",
              "    height: 32px;\n",
              "    padding: 0;\n",
              "    width: 32px;\n",
              "  }\n",
              "\n",
              "  .colab-df-quickchart:hover {\n",
              "    background-color: var(--hover-bg-color);\n",
              "    box-shadow: 0 1px 2px rgba(60, 64, 67, 0.3), 0 1px 3px 1px rgba(60, 64, 67, 0.15);\n",
              "    fill: var(--button-hover-fill-color);\n",
              "  }\n",
              "\n",
              "  .colab-df-quickchart-complete:disabled,\n",
              "  .colab-df-quickchart-complete:disabled:hover {\n",
              "    background-color: var(--disabled-bg-color);\n",
              "    fill: var(--disabled-fill-color);\n",
              "    box-shadow: none;\n",
              "  }\n",
              "\n",
              "  .colab-df-spinner {\n",
              "    border: 2px solid var(--fill-color);\n",
              "    border-color: transparent;\n",
              "    border-bottom-color: var(--fill-color);\n",
              "    animation:\n",
              "      spin 1s steps(1) infinite;\n",
              "  }\n",
              "\n",
              "  @keyframes spin {\n",
              "    0% {\n",
              "      border-color: transparent;\n",
              "      border-bottom-color: var(--fill-color);\n",
              "      border-left-color: var(--fill-color);\n",
              "    }\n",
              "    20% {\n",
              "      border-color: transparent;\n",
              "      border-left-color: var(--fill-color);\n",
              "      border-top-color: var(--fill-color);\n",
              "    }\n",
              "    30% {\n",
              "      border-color: transparent;\n",
              "      border-left-color: var(--fill-color);\n",
              "      border-top-color: var(--fill-color);\n",
              "      border-right-color: var(--fill-color);\n",
              "    }\n",
              "    40% {\n",
              "      border-color: transparent;\n",
              "      border-right-color: var(--fill-color);\n",
              "      border-top-color: var(--fill-color);\n",
              "    }\n",
              "    60% {\n",
              "      border-color: transparent;\n",
              "      border-right-color: var(--fill-color);\n",
              "    }\n",
              "    80% {\n",
              "      border-color: transparent;\n",
              "      border-right-color: var(--fill-color);\n",
              "      border-bottom-color: var(--fill-color);\n",
              "    }\n",
              "    90% {\n",
              "      border-color: transparent;\n",
              "      border-bottom-color: var(--fill-color);\n",
              "    }\n",
              "  }\n",
              "</style>\n",
              "\n",
              "  <script>\n",
              "    async function quickchart(key) {\n",
              "      const quickchartButtonEl =\n",
              "        document.querySelector('#' + key + ' button');\n",
              "      quickchartButtonEl.disabled = true;  // To prevent multiple clicks.\n",
              "      quickchartButtonEl.classList.add('colab-df-spinner');\n",
              "      try {\n",
              "        const charts = await google.colab.kernel.invokeFunction(\n",
              "            'suggestCharts', [key], {});\n",
              "      } catch (error) {\n",
              "        console.error('Error during call to suggestCharts:', error);\n",
              "      }\n",
              "      quickchartButtonEl.classList.remove('colab-df-spinner');\n",
              "      quickchartButtonEl.classList.add('colab-df-quickchart-complete');\n",
              "    }\n",
              "    (() => {\n",
              "      let quickchartButtonEl =\n",
              "        document.querySelector('#df-6fdff393-24f5-4814-93ec-2d3d01988470 button');\n",
              "      quickchartButtonEl.style.display =\n",
              "        google.colab.kernel.accessAllowed ? 'block' : 'none';\n",
              "    })();\n",
              "  </script>\n",
              "</div>\n",
              "\n",
              "    </div>\n",
              "  </div>\n"
            ],
            "application/vnd.google.colaboratory.intrinsic+json": {
              "type": "dataframe",
              "variable_name": "test",
              "summary": "{\n  \"name\": \"test\",\n  \"rows\": 11777,\n  \"fields\": [\n    {\n      \"column\": \"Name\",\n      \"properties\": {\n        \"dtype\": \"string\",\n        \"num_unique_values\": 11777,\n        \"samples\": [\n          \"cYsmix\",\n          \"Shing02\",\n          \"Marcela\"\n        ],\n        \"semantic_type\": \"\",\n        \"description\": \"\"\n      }\n    },\n    {\n      \"column\": \"listeners\",\n      \"properties\": {\n        \"dtype\": \"number\",\n        \"std\": 1.4964068366954675,\n        \"min\": 2.772588722239781,\n        \"max\": 15.858085423570117,\n        \"num_unique_values\": 11647,\n        \"samples\": [\n          12.370688375205196,\n          11.95992271538401,\n          11.537266796356386\n        ],\n        \"semantic_type\": \"\",\n        \"description\": \"\"\n      }\n    },\n    {\n      \"column\": \"play_counts\",\n      \"properties\": {\n        \"dtype\": \"number\",\n        \"std\": 1.804982672336056,\n        \"min\": 6.3561076606958915,\n        \"max\": 21.70943718950157,\n        \"num_unique_values\": 11773,\n        \"samples\": [\n          14.059632515663676,\n          13.278525746712486,\n          17.822649233371845\n        ],\n        \"semantic_type\": \"\",\n        \"description\": \"\"\n      }\n    },\n    {\n      \"column\": \"summary_vector\",\n      \"properties\": {\n        \"dtype\": \"object\",\n        \"semantic_type\": \"\",\n        \"description\": \"\"\n      }\n    },\n    {\n      \"column\": \"top_album_vector\",\n      \"properties\": {\n        \"dtype\": \"object\",\n        \"semantic_type\": \"\",\n        \"description\": \"\"\n      }\n    },\n    {\n      \"column\": \"top_song_vector\",\n      \"properties\": {\n        \"dtype\": \"object\",\n        \"semantic_type\": \"\",\n        \"description\": \"\"\n      }\n    },\n    {\n      \"column\": \"similar_artist_embedding\",\n      \"properties\": {\n        \"dtype\": \"object\",\n        \"semantic_type\": \"\",\n        \"description\": \"\"\n      }\n    },\n    {\n      \"column\": \"mapped_cluster_encoded\",\n      \"properties\": {\n        \"dtype\": \"number\",\n        \"std\": 2,\n        \"min\": 0,\n        \"max\": 8,\n        \"num_unique_values\": 9,\n        \"samples\": [\n          1,\n          2,\n          4\n        ],\n        \"semantic_type\": \"\",\n        \"description\": \"\"\n      }\n    }\n  ]\n}"
            }
          },
          "metadata": {},
          "execution_count": 25
        }
      ]
    },
    {
      "cell_type": "code",
      "source": [
        "# using horizontal stack to stack all vectors\n",
        "features = np.hstack([\n",
        "    np.vstack(test['summary_vector']),\n",
        "    np.vstack(test['top_album_vector']),\n",
        "    np.vstack(test['top_song_vector']),\n",
        "    np.vstack(test['similar_artist_embedding']),\n",
        "    test[['listeners', 'play_counts']].values\n",
        "    ])\n",
        "\n",
        "target = test['mapped_cluster_encoded'].values"
      ],
      "metadata": {
        "id": "JGnyHtZwN4Oa"
      },
      "execution_count": 26,
      "outputs": []
    },
    {
      "cell_type": "markdown",
      "source": [
        "### Training the model"
      ],
      "metadata": {
        "id": "beCYMXK_FMIP"
      }
    },
    {
      "cell_type": "code",
      "source": [
        "# Using XGBoost Classifier\n",
        "X_train, X_test, y_train, y_test = train_test_split(features, target, test_size=0.2, random_state=42)\n",
        "model = XGBClassifier(\n",
        "    n_estimators=100,\n",
        "    max_depth=5,\n",
        "    learning_rate=0.1,\n",
        "    objective='multi:softmax',\n",
        "    num_class=10,\n",
        "    random_state=42\n",
        ")\n",
        "model.fit(X_train, y_train)\n"
      ],
      "metadata": {
        "id": "EL7Rz6OTN4Lq",
        "colab": {
          "base_uri": "https://localhost:8080/",
          "height": 248
        },
        "outputId": "eef9808b-6def-4e7d-bd36-5a4fd279ded8"
      },
      "execution_count": 27,
      "outputs": [
        {
          "output_type": "execute_result",
          "data": {
            "text/plain": [
              "XGBClassifier(base_score=None, booster=None, callbacks=None,\n",
              "              colsample_bylevel=None, colsample_bynode=None,\n",
              "              colsample_bytree=None, device=None, early_stopping_rounds=None,\n",
              "              enable_categorical=False, eval_metric=None, feature_types=None,\n",
              "              gamma=None, grow_policy=None, importance_type=None,\n",
              "              interaction_constraints=None, learning_rate=0.1, max_bin=None,\n",
              "              max_cat_threshold=None, max_cat_to_onehot=None,\n",
              "              max_delta_step=None, max_depth=5, max_leaves=None,\n",
              "              min_child_weight=None, missing=nan, monotone_constraints=None,\n",
              "              multi_strategy=None, n_estimators=100, n_jobs=None, num_class=10,\n",
              "              num_parallel_tree=None, ...)"
            ],
            "text/html": [
              "<style>#sk-container-id-1 {color: black;}#sk-container-id-1 pre{padding: 0;}#sk-container-id-1 div.sk-toggleable {background-color: white;}#sk-container-id-1 label.sk-toggleable__label {cursor: pointer;display: block;width: 100%;margin-bottom: 0;padding: 0.3em;box-sizing: border-box;text-align: center;}#sk-container-id-1 label.sk-toggleable__label-arrow:before {content: \"▸\";float: left;margin-right: 0.25em;color: #696969;}#sk-container-id-1 label.sk-toggleable__label-arrow:hover:before {color: black;}#sk-container-id-1 div.sk-estimator:hover label.sk-toggleable__label-arrow:before {color: black;}#sk-container-id-1 div.sk-toggleable__content {max-height: 0;max-width: 0;overflow: hidden;text-align: left;background-color: #f0f8ff;}#sk-container-id-1 div.sk-toggleable__content pre {margin: 0.2em;color: black;border-radius: 0.25em;background-color: #f0f8ff;}#sk-container-id-1 input.sk-toggleable__control:checked~div.sk-toggleable__content {max-height: 200px;max-width: 100%;overflow: auto;}#sk-container-id-1 input.sk-toggleable__control:checked~label.sk-toggleable__label-arrow:before {content: \"▾\";}#sk-container-id-1 div.sk-estimator input.sk-toggleable__control:checked~label.sk-toggleable__label {background-color: #d4ebff;}#sk-container-id-1 div.sk-label input.sk-toggleable__control:checked~label.sk-toggleable__label {background-color: #d4ebff;}#sk-container-id-1 input.sk-hidden--visually {border: 0;clip: rect(1px 1px 1px 1px);clip: rect(1px, 1px, 1px, 1px);height: 1px;margin: -1px;overflow: hidden;padding: 0;position: absolute;width: 1px;}#sk-container-id-1 div.sk-estimator {font-family: monospace;background-color: #f0f8ff;border: 1px dotted black;border-radius: 0.25em;box-sizing: border-box;margin-bottom: 0.5em;}#sk-container-id-1 div.sk-estimator:hover {background-color: #d4ebff;}#sk-container-id-1 div.sk-parallel-item::after {content: \"\";width: 100%;border-bottom: 1px solid gray;flex-grow: 1;}#sk-container-id-1 div.sk-label:hover label.sk-toggleable__label {background-color: #d4ebff;}#sk-container-id-1 div.sk-serial::before {content: \"\";position: absolute;border-left: 1px solid gray;box-sizing: border-box;top: 0;bottom: 0;left: 50%;z-index: 0;}#sk-container-id-1 div.sk-serial {display: flex;flex-direction: column;align-items: center;background-color: white;padding-right: 0.2em;padding-left: 0.2em;position: relative;}#sk-container-id-1 div.sk-item {position: relative;z-index: 1;}#sk-container-id-1 div.sk-parallel {display: flex;align-items: stretch;justify-content: center;background-color: white;position: relative;}#sk-container-id-1 div.sk-item::before, #sk-container-id-1 div.sk-parallel-item::before {content: \"\";position: absolute;border-left: 1px solid gray;box-sizing: border-box;top: 0;bottom: 0;left: 50%;z-index: -1;}#sk-container-id-1 div.sk-parallel-item {display: flex;flex-direction: column;z-index: 1;position: relative;background-color: white;}#sk-container-id-1 div.sk-parallel-item:first-child::after {align-self: flex-end;width: 50%;}#sk-container-id-1 div.sk-parallel-item:last-child::after {align-self: flex-start;width: 50%;}#sk-container-id-1 div.sk-parallel-item:only-child::after {width: 0;}#sk-container-id-1 div.sk-dashed-wrapped {border: 1px dashed gray;margin: 0 0.4em 0.5em 0.4em;box-sizing: border-box;padding-bottom: 0.4em;background-color: white;}#sk-container-id-1 div.sk-label label {font-family: monospace;font-weight: bold;display: inline-block;line-height: 1.2em;}#sk-container-id-1 div.sk-label-container {text-align: center;}#sk-container-id-1 div.sk-container {/* jupyter's `normalize.less` sets `[hidden] { display: none; }` but bootstrap.min.css set `[hidden] { display: none !important; }` so we also need the `!important` here to be able to override the default hidden behavior on the sphinx rendered scikit-learn.org. See: https://github.com/scikit-learn/scikit-learn/issues/21755 */display: inline-block !important;position: relative;}#sk-container-id-1 div.sk-text-repr-fallback {display: none;}</style><div id=\"sk-container-id-1\" class=\"sk-top-container\"><div class=\"sk-text-repr-fallback\"><pre>XGBClassifier(base_score=None, booster=None, callbacks=None,\n",
              "              colsample_bylevel=None, colsample_bynode=None,\n",
              "              colsample_bytree=None, device=None, early_stopping_rounds=None,\n",
              "              enable_categorical=False, eval_metric=None, feature_types=None,\n",
              "              gamma=None, grow_policy=None, importance_type=None,\n",
              "              interaction_constraints=None, learning_rate=0.1, max_bin=None,\n",
              "              max_cat_threshold=None, max_cat_to_onehot=None,\n",
              "              max_delta_step=None, max_depth=5, max_leaves=None,\n",
              "              min_child_weight=None, missing=nan, monotone_constraints=None,\n",
              "              multi_strategy=None, n_estimators=100, n_jobs=None, num_class=10,\n",
              "              num_parallel_tree=None, ...)</pre><b>In a Jupyter environment, please rerun this cell to show the HTML representation or trust the notebook. <br />On GitHub, the HTML representation is unable to render, please try loading this page with nbviewer.org.</b></div><div class=\"sk-container\" hidden><div class=\"sk-item\"><div class=\"sk-estimator sk-toggleable\"><input class=\"sk-toggleable__control sk-hidden--visually\" id=\"sk-estimator-id-1\" type=\"checkbox\" checked><label for=\"sk-estimator-id-1\" class=\"sk-toggleable__label sk-toggleable__label-arrow\">XGBClassifier</label><div class=\"sk-toggleable__content\"><pre>XGBClassifier(base_score=None, booster=None, callbacks=None,\n",
              "              colsample_bylevel=None, colsample_bynode=None,\n",
              "              colsample_bytree=None, device=None, early_stopping_rounds=None,\n",
              "              enable_categorical=False, eval_metric=None, feature_types=None,\n",
              "              gamma=None, grow_policy=None, importance_type=None,\n",
              "              interaction_constraints=None, learning_rate=0.1, max_bin=None,\n",
              "              max_cat_threshold=None, max_cat_to_onehot=None,\n",
              "              max_delta_step=None, max_depth=5, max_leaves=None,\n",
              "              min_child_weight=None, missing=nan, monotone_constraints=None,\n",
              "              multi_strategy=None, n_estimators=100, n_jobs=None, num_class=10,\n",
              "              num_parallel_tree=None, ...)</pre></div></div></div></div></div>"
            ]
          },
          "metadata": {},
          "execution_count": 27
        }
      ]
    },
    {
      "cell_type": "markdown",
      "source": [
        "### Accuracy of the model"
      ],
      "metadata": {
        "id": "Aak4bwplE_nt"
      }
    },
    {
      "cell_type": "code",
      "source": [
        "# Accuracy and F1 score\n",
        "y_pred = model.predict(X_test)\n",
        "print(\"Accuracy:\", accuracy_score(y_test, y_pred))\n",
        "print(\"F1 Score:\", f1_score(y_test, y_pred, average='weighted'))\n",
        "print(classification_report(y_test, y_pred))\n"
      ],
      "metadata": {
        "colab": {
          "base_uri": "https://localhost:8080/"
        },
        "id": "Ck_HYeEdN4Fe",
        "outputId": "05f4dbfe-63cd-4b33-d5ea-9ef6d17be76b"
      },
      "execution_count": 30,
      "outputs": [
        {
          "output_type": "stream",
          "name": "stdout",
          "text": [
            "Accuracy: 0.5407470288624788\n",
            "F1 Score: 0.5186992669375325\n",
            "              precision    recall  f1-score   support\n",
            "\n",
            "           0       0.49      0.37      0.42       517\n",
            "           2       0.60      0.68      0.63       891\n",
            "           3       0.70      0.28      0.40       127\n",
            "           4       0.50      0.07      0.12        14\n",
            "           5       0.00      0.00      0.00        21\n",
            "           6       0.00      0.00      0.00        89\n",
            "           7       0.49      0.63      0.55       695\n",
            "           8       0.00      0.00      0.00         2\n",
            "\n",
            "    accuracy                           0.54      2356\n",
            "   macro avg       0.35      0.25      0.27      2356\n",
            "weighted avg       0.52      0.54      0.52      2356\n",
            "\n"
          ]
        },
        {
          "output_type": "stream",
          "name": "stderr",
          "text": [
            "/usr/local/lib/python3.10/dist-packages/sklearn/metrics/_classification.py:1469: UndefinedMetricWarning: Precision and F-score are ill-defined and being set to 0.0 in labels with no predicted samples. Use `zero_division` parameter to control this behavior.\n",
            "  _warn_prf(average, modifier, msg_start, len(result))\n",
            "/usr/local/lib/python3.10/dist-packages/sklearn/metrics/_classification.py:1469: UndefinedMetricWarning: Precision and F-score are ill-defined and being set to 0.0 in labels with no predicted samples. Use `zero_division` parameter to control this behavior.\n",
            "  _warn_prf(average, modifier, msg_start, len(result))\n",
            "/usr/local/lib/python3.10/dist-packages/sklearn/metrics/_classification.py:1469: UndefinedMetricWarning: Precision and F-score are ill-defined and being set to 0.0 in labels with no predicted samples. Use `zero_division` parameter to control this behavior.\n",
            "  _warn_prf(average, modifier, msg_start, len(result))\n"
          ]
        }
      ]
    },
    {
      "cell_type": "code",
      "source": [
        "tag = 1\n",
        "ranked_artists_names = []\n",
        "tag_probs = model.predict_proba(X_test)\n",
        "ranked_artists = np.argsort(-tag_probs[:, tag])\n",
        "top_name = [test['Name'].iloc[i] for i in ranked_artists[:10]]\n",
        "ranked_artists_names.extend(top_name)\n",
        "print(\"Top Recommended Artists for Tag\", tag, \":\", ranked_artists_names)\n"
      ],
      "metadata": {
        "colab": {
          "base_uri": "https://localhost:8080/"
        },
        "id": "_1iGfOnjN4CN",
        "outputId": "0d51d3b1-f35b-4e37-8941-50d131df6b34"
      },
      "execution_count": 31,
      "outputs": [
        {
          "output_type": "stream",
          "name": "stdout",
          "text": [
            "Top Recommended Artists for Tag 1 : ['Sleeping at Last', 'Paris Hilton', 'Rixton', 'Bob Dylan', 'St. Lucia', 'Tesla', 'Norah Jones', 'Smokey Robinson', 'Jane Monheit', 'Exposé']\n"
          ]
        }
      ]
    },
    {
      "cell_type": "code",
      "source": [
        "tag = 7\n",
        "ranked_artists_names = []\n",
        "tag_probs = model.predict_proba(X_test)\n",
        "ranked_artists = np.argsort(-tag_probs[:, tag])\n",
        "top_name = [test['Name'].iloc[i] for i in ranked_artists[:10]]\n",
        "ranked_artists_names.extend(top_name)\n",
        "print(\"Top Recommended Artists for Tag\", tag, \":\", ranked_artists_names)\n"
      ],
      "metadata": {
        "id": "uKipgd25feh8",
        "outputId": "5ea41bea-332a-4a0a-b99d-651a0092edf3",
        "colab": {
          "base_uri": "https://localhost:8080/"
        }
      },
      "execution_count": 32,
      "outputs": [
        {
          "output_type": "stream",
          "name": "stdout",
          "text": [
            "Top Recommended Artists for Tag 7 : ['Paul Stanley', 'The Mighty Bop', 'Andy Williams', 'Train', 'Atoms for Peace', 'Dark Tranquillity', 'Franz Schubert', 'Tonic', 'Jon Bon Jovi', 'Death Grips']\n"
          ]
        }
      ]
    },
    {
      "cell_type": "code",
      "source": [
        "def precision_at_k(y_true, y_pred, k):\n",
        "    correct = 0\n",
        "    for i in range(len(y_true)):\n",
        "        if y_true[i] in y_pred[i][:k]:\n",
        "            correct += 1\n",
        "    return correct / len(y_true)\n",
        "\n",
        "precision = precision_at_k(y_test, [np.argsort(-probs) for probs in tag_probs], k=5)\n",
        "print(\"Precision@5:\", precision)\n"
      ],
      "metadata": {
        "colab": {
          "base_uri": "https://localhost:8080/"
        },
        "id": "2GE08xQhPH1p",
        "outputId": "65c89e4b-80f6-406a-f31a-784c3e330104"
      },
      "execution_count": 33,
      "outputs": [
        {
          "output_type": "stream",
          "name": "stdout",
          "text": [
            "Precision@5: 0.9906621392190152\n"
          ]
        }
      ]
    }
  ]
}